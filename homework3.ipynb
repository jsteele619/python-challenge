{
 "cells": [
  {
   "cell_type": "code",
   "execution_count": 1,
   "metadata": {},
   "outputs": [],
   "source": [
    "import pandas as pd\n",
    "data_file = \"Resources/budget_data.csv\"\n",
    "budget = pd.read_csv(data_file)"
   ]
  },
  {
   "cell_type": "code",
   "execution_count": 3,
   "metadata": {
    "scrolled": true
   },
   "outputs": [],
   "source": [
    "changelist = []\n",
    "for x in range(85):\n",
    "    change = budget_profit[x+1] - budget_profit[x]\n",
    "    changelist.append(change)"
   ]
  },
  {
   "cell_type": "code",
   "execution_count": 4,
   "metadata": {},
   "outputs": [],
   "source": [
    "datelist = []\n",
    "for x in range(85):\n",
    "    if budget.iloc[x+1,1] - budget.iloc[x,1] == max(changelist):\n",
    "        date = budget.iloc[x+1,0]\n",
    "        datelist.append(date)"
   ]
  },
  {
   "cell_type": "code",
   "execution_count": 5,
   "metadata": {},
   "outputs": [],
   "source": [
    "datelist2 = []\n",
    "for x in range(85):\n",
    "    if budget.iloc[x+1,1] - budget.iloc[x,1] == min(changelist):\n",
    "        date = budget.iloc[x+1,0]\n",
    "        datelist2.append(date)"
   ]
  },
  {
   "cell_type": "code",
   "execution_count": 6,
   "metadata": {
    "tags": []
   },
   "outputs": [
    {
     "output_type": "stream",
     "name": "stdout",
     "text": "Here are my solutions!\nTotal Months: 86\nTotal Net: 38382578\nAverage  Change: 446309.0465116279\nGreatest Increase in Profits: ['Feb-2012'] 1926159\nGreatest Decrease in Profits: ['Sep-2013'] -2196167\n"
    }
   ],
   "source": [
    "print(\"Here are my solutions!\")\n",
    "print(\"Total Months:\", len(budget_months))\n",
    "print(\"Total Net:\", sum(budget_profit))\n",
    "print(\"Average  Change:\", budget_profit.mean())\n",
    "print(\"Greatest Increase in Profits:\", datelist, max(changelist))\n",
    "print(\"Greatest Decrease in Profits:\", datelist2, min(changelist))"
   ]
  },
  {
   "cell_type": "code",
   "execution_count": 8,
   "metadata": {},
   "outputs": [
    {
     "output_type": "execute_result",
     "data": {
      "text/plain": "        Date  Profit/Losses\n0   Jan-2010         867884\n1   Feb-2010         984655\n2   Mar-2010         322013\n3   Apr-2010         -69417\n4   May-2010         310503\n..       ...            ...\n81  Oct-2016         102685\n82  Nov-2016         795914\n83  Dec-2016          60988\n84  Jan-2017         138230\n85  Feb-2017         671099\n\n[86 rows x 2 columns]",
      "text/html": "<div>\n<style scoped>\n    .dataframe tbody tr th:only-of-type {\n        vertical-align: middle;\n    }\n\n    .dataframe tbody tr th {\n        vertical-align: top;\n    }\n\n    .dataframe thead th {\n        text-align: right;\n    }\n</style>\n<table border=\"1\" class=\"dataframe\">\n  <thead>\n    <tr style=\"text-align: right;\">\n      <th></th>\n      <th>Date</th>\n      <th>Profit/Losses</th>\n    </tr>\n  </thead>\n  <tbody>\n    <tr>\n      <th>0</th>\n      <td>Jan-2010</td>\n      <td>867884</td>\n    </tr>\n    <tr>\n      <th>1</th>\n      <td>Feb-2010</td>\n      <td>984655</td>\n    </tr>\n    <tr>\n      <th>2</th>\n      <td>Mar-2010</td>\n      <td>322013</td>\n    </tr>\n    <tr>\n      <th>3</th>\n      <td>Apr-2010</td>\n      <td>-69417</td>\n    </tr>\n    <tr>\n      <th>4</th>\n      <td>May-2010</td>\n      <td>310503</td>\n    </tr>\n    <tr>\n      <th>...</th>\n      <td>...</td>\n      <td>...</td>\n    </tr>\n    <tr>\n      <th>81</th>\n      <td>Oct-2016</td>\n      <td>102685</td>\n    </tr>\n    <tr>\n      <th>82</th>\n      <td>Nov-2016</td>\n      <td>795914</td>\n    </tr>\n    <tr>\n      <th>83</th>\n      <td>Dec-2016</td>\n      <td>60988</td>\n    </tr>\n    <tr>\n      <th>84</th>\n      <td>Jan-2017</td>\n      <td>138230</td>\n    </tr>\n    <tr>\n      <th>85</th>\n      <td>Feb-2017</td>\n      <td>671099</td>\n    </tr>\n  </tbody>\n</table>\n<p>86 rows × 2 columns</p>\n</div>"
     },
     "metadata": {},
     "execution_count": 8
    }
   ],
   "source": [
    "budget"
   ]
  },
  {
   "cell_type": "code",
   "execution_count": null,
   "metadata": {},
   "outputs": [],
   "source": []
  }
 ],
 "metadata": {
  "kernelspec": {
   "display_name": "Python 3",
   "language": "python",
   "name": "python3"
  },
  "language_info": {
   "codemirror_mode": {
    "name": "ipython",
    "version": 3
   },
   "file_extension": ".py",
   "mimetype": "text/x-python",
   "name": "python",
   "nbconvert_exporter": "python",
   "pygments_lexer": "ipython3",
   "version": "3.7.7-final"
  }
 },
 "nbformat": 4,
 "nbformat_minor": 4
}