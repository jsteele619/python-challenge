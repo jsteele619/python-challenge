{
 "cells": [
  {
   "cell_type": "code",
   "execution_count": 1,
   "metadata": {},
   "outputs": [],
   "source": [
    "import pandas as pd\n",
    "data_file = \"Resources/budget_data.csv\"\n",
    "budget = pd.read_csv(data_file)"
   ]
  },
  {
   "cell_type": "code",
   "execution_count": 2,
   "metadata": {},
   "outputs": [],
   "source": [
    "budget_months = budget[\"Date\"].value_counts()\n",
    "budget_profit = budget[\"Profit/Losses\"]"
   ]
  },
  {
   "cell_type": "code",
   "execution_count": 3,
   "metadata": {
    "scrolled": true
   },
   "outputs": [],
   "source": [
    "changelist = []\n",
    "for x in range(85):\n",
    "    change = budget_profit[x+1] - budget_profit[x]\n",
    "    changelist.append(change)"
   ]
  },
  {
   "cell_type": "code",
   "execution_count": 4,
   "metadata": {},
   "outputs": [],
   "source": [
    "datelist = []\n",
    "for x in range(85):\n",
    "    if budget.iloc[x+1,1] - budget.iloc[x,1] == max(changelist):\n",
    "        date = budget.iloc[x+1,0]\n",
    "        datelist.append(date)"
   ]
  },
  {
   "cell_type": "code",
   "execution_count": 5,
   "metadata": {},
   "outputs": [],
   "source": [
    "datelist2 = []\n",
    "for x in range(85):\n",
    "    if budget.iloc[x+1,1] - budget.iloc[x,1] == min(changelist):\n",
    "        date = budget.iloc[x+1,0]\n",
    "        datelist2.append(date)"
   ]
  },
  {
   "cell_type": "code",
   "execution_count": 6,
   "metadata": {
    "tags": []
   },
   "outputs": [
    {
     "output_type": "stream",
     "name": "stdout",
     "text": "Here are my solutions!\nTotal Months: 86\nTotal Net: 38382578\nAverage  Change: 446309.0465116279\nGreatest Increase in Profits: ['Feb-2012'] 1926159\nGreatest Decrease in Profits: ['Sep-2013'] -2196167\n"
    }
   ],
   "source": [
    "print(\"Here are my solutions!\")\n",
    "print(\"Total Months:\", len(budget_months))\n",
    "print(\"Total Net:\", sum(budget_profit))\n",
    "print(\"Average  Change:\", budget_profit.mean())\n",
    "print(\"Greatest Increase in Profits:\", datelist, max(changelist))\n",
    "print(\"Greatest Decrease in Profits:\", datelist2, min(changelist))"
   ]
  },
  {
   "cell_type": "code",
   "execution_count": null,
   "metadata": {},
   "outputs": [],
   "source": []
  }
 ],
 "metadata": {
  "kernelspec": {
   "display_name": "Python 3",
   "language": "python",
   "name": "python3"
  },
  "language_info": {
   "codemirror_mode": {
    "name": "ipython",
    "version": 3
   },
   "file_extension": ".py",
   "mimetype": "text/x-python",
   "name": "python",
   "nbconvert_exporter": "python",
   "pygments_lexer": "ipython3",
   "version": "3.7.7-final"
  }
 },
 "nbformat": 4,
 "nbformat_minor": 4
}