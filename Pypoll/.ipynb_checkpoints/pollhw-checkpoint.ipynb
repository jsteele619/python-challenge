{
 "cells": [
  {
   "cell_type": "code",
   "execution_count": 79,
   "metadata": {},
   "outputs": [],
   "source": [
    "import pandas as pd\n",
    "data_file = (\"resources/election_data.csv\")\n",
    "election = pd.read_csv(data_file)"
   ]
  },
  {
   "cell_type": "code",
   "execution_count": 80,
   "metadata": {
    "tags": []
   },
   "outputs": [],
   "source": [
    "candidates = election[[\"Candidate\"]]\n",
    "\n",
    "candidates_vote = (election[\"Candidate\"].unique())"
   ]
  },
  {
   "cell_type": "code",
   "execution_count": 81,
   "metadata": {
    "tags": []
   },
   "outputs": [],
   "source": [
    "candidates_values = candidates.value_counts()\n",
    "candidates_sum = pd.DataFrame({\"Number of Votes\": candidates_values, \"Percentage\": candidates_values/len(candidates)})"
   ]
  },
  {
   "cell_type": "code",
   "execution_count": 82,
   "metadata": {
    "tags": []
   },
   "outputs": [
    {
     "name": "stdout",
     "output_type": "stream",
     "text": [
      "The number of voters this year is 3521001\n",
      "The candidates this year are ['Khan' 'Correy' 'Li' \"O'Tooley\"]\n",
      "The results this year:\n",
      "           Number of Votes  Percentage\n",
      "Candidate                             \n",
      "Khan               2218231        0.63\n",
      "Correy              704200        0.20\n",
      "Li                  492940        0.14\n",
      "O'Tooley            105630        0.03\n",
      "The winner is Khan\n"
     ]
    }
   ],
   "source": [
    "print(\"The number of voters this year is\", len(candidates)) \n",
    "print(\"The candidates this year are\", candidates_vote)\n",
    "print(\"The results this year:\")\n",
    "print(candidates_sum)\n",
    "print(\"The winner is Khan\")\n"
   ]
  },
  {
   "cell_type": "code",
   "execution_count": 100,
   "metadata": {},
   "outputs": [],
   "source": [
    "f = open(\"final.txt\",\"a+\")\n",
    "f.write(\"\\nThe number of voters this year are \")\n",
    "f.write(str(len(candidates)))\n",
    "f.write(\"\\nThe candidates this year are\") \n",
    "f.write(str(candidates_vote))\n",
    "f.write(\"\\nThe results this year:\\n\") \n",
    "f.write(str(candidates_sum))\n",
    "f.write(\"\\n\\nThe winner is Khan\")\n",
    "f.close() "
   ]
  },
  {
   "cell_type": "code",
   "execution_count": 35,
   "metadata": {},
   "outputs": [
    {
     "name": "stdout",
     "output_type": "stream",
     "text": [
      "                                                   0\n",
      "0  print(\"The number of voters this year is\", len...\n"
     ]
    }
   ],
   "source": []
  },
  {
   "cell_type": "code",
   "execution_count": 50,
   "metadata": {},
   "outputs": [],
   "source": []
  },
  {
   "cell_type": "code",
   "execution_count": 56,
   "metadata": {},
   "outputs": [
    {
     "ename": "NameError",
     "evalue": "name 'pollhw' is not defined",
     "output_type": "error",
     "traceback": [
      "\u001b[0;31m---------------------------------------------------------------------------\u001b[0m",
      "\u001b[0;31mNameError\u001b[0m                                 Traceback (most recent call last)",
      "\u001b[0;32m<ipython-input-56-32e0c69de92f>\u001b[0m in \u001b[0;36m<module>\u001b[0;34m\u001b[0m\n\u001b[0;32m----> 1\u001b[0;31m \u001b[0mpollhw\u001b[0m\u001b[0;34m.\u001b[0m\u001b[0mpy\u001b[0m\u001b[0;34m.\u001b[0m\u001b[0mto_csv\u001b[0m\u001b[0;34m(\u001b[0m\u001b[0;34m'Election_Results.csv'\u001b[0m\u001b[0;34m,\u001b[0m \u001b[0mindex\u001b[0m\u001b[0;34m=\u001b[0m\u001b[0;32mFalse\u001b[0m\u001b[0;34m)\u001b[0m\u001b[0;34m\u001b[0m\u001b[0;34m\u001b[0m\u001b[0m\n\u001b[0m",
      "\u001b[0;31mNameError\u001b[0m: name 'pollhw' is not defined"
     ]
    }
   ],
   "source": []
  },
  {
   "cell_type": "code",
   "execution_count": null,
   "metadata": {},
   "outputs": [],
   "source": []
  }
 ],
 "metadata": {
  "kernelspec": {
   "display_name": "Python 3",
   "language": "python",
   "name": "python3"
  },
  "language_info": {
   "codemirror_mode": {
    "name": "ipython",
    "version": 3
   },
   "file_extension": ".py",
   "mimetype": "text/x-python",
   "name": "python",
   "nbconvert_exporter": "python",
   "pygments_lexer": "ipython3",
   "version": "3.7.7"
  }
 },
 "nbformat": 4,
 "nbformat_minor": 4
}
