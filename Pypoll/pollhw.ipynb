{
 "cells": [
  {
   "cell_type": "code",
   "execution_count": 1,
   "metadata": {},
   "outputs": [],
   "source": [
    "import pandas as pd\n",
    "data_file = (\"resources/election_data.csv\")\n",
    "election = pd.read_csv(data_file)"
   ]
  },
  {
   "cell_type": "code",
   "execution_count": 2,
   "metadata": {
    "tags": []
   },
   "outputs": [],
   "source": [
    "candidates = election[[\"Candidate\"]]\n",
    "\n",
    "candidates_vote = (election[\"Candidate\"].unique())"
   ]
  },
  {
   "cell_type": "code",
   "execution_count": 3,
   "metadata": {
    "tags": []
   },
   "outputs": [],
   "source": [
    "candidates_values = candidates.value_counts()\n",
    "candidates_sum = pd.DataFrame({\"Number of Votes\": candidates_values, \"Percentage\": candidates_values/len(candidates)})"
   ]
  },
  {
   "cell_type": "code",
   "execution_count": 4,
   "metadata": {
    "tags": []
   },
   "outputs": [
    {
     "output_type": "stream",
     "name": "stdout",
     "text": "The number of voters this year is 3521001\nThe candidates this year are ['Khan' 'Correy' 'Li' \"O'Tooley\"]\nThe results this year:\n           Number of Votes  Percentage\nCandidate                             \nKhan               2218231        0.63\nCorrey              704200        0.20\nLi                  492940        0.14\nO'Tooley            105630        0.03\nThe winner is Khan\n"
    }
   ],
   "source": [
    "print(\"The number of voters this year is\", len(candidates)) \n",
    "print(\"The candidates this year are\", candidates_vote)\n",
    "print(\"The results this year:\")\n",
    "print(candidates_sum)\n",
    "print(\"The winner is Khan\")\n"
   ]
  },
  {
   "cell_type": "code",
   "execution_count": null,
   "metadata": {},
   "outputs": [],
   "source": []
  },
  {
   "cell_type": "code",
   "execution_count": null,
   "metadata": {},
   "outputs": [],
   "source": []
  }
 ],
 "metadata": {
  "kernelspec": {
   "display_name": "Python 3",
   "language": "python",
   "name": "python3"
  },
  "language_info": {
   "codemirror_mode": {
    "name": "ipython",
    "version": 3
   },
   "file_extension": ".py",
   "mimetype": "text/x-python",
   "name": "python",
   "nbconvert_exporter": "python",
   "pygments_lexer": "ipython3",
   "version": "3.7.7-final"
  }
 },
 "nbformat": 4,
 "nbformat_minor": 4
}